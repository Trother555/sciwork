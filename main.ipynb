{
 "cells": [
  {
   "cell_type": "code",
   "execution_count": 6,
   "metadata": {},
   "outputs": [],
   "source": [
    "import nltk"
   ]
  },
  {
   "cell_type": "code",
   "execution_count": 7,
   "metadata": {},
   "outputs": [],
   "source": [
    "import requests as rq\n",
    "import json\n",
    "import pandas as pd\n",
    "import functools\n",
    "from tqdm import tqdm_notebook\n",
    "import pickle"
   ]
  },
  {
   "cell_type": "code",
   "execution_count": 11,
   "metadata": {},
   "outputs": [],
   "source": [
    "proxies = {\n",
    "  \"http\": None,\n",
    "  \"https\": None,\n",
    "}\n",
    "def malt_parse(text, url='http://localhost:2000'):\n",
    "    res = json.loads(\n",
    "        rq.get(f'{url}/parse?text={text}', proxies=proxies).content)\n",
    "    df = pd.DataFrame(columns=['Id', 'Form', 'Lemma', 'CPOSTAG', 'Postag', 'Features', \n",
    "                               'Head', 'Deprel', 'Phead', 'Pdeprel'])\n",
    "    for i in range(len(res)):\n",
    "        df.loc[i] = res[i].split('\\t')\n",
    "    df['Head'] = df['Head'].astype('int')\n",
    "    df['Id'] = df['Id'].astype('int')\n",
    "    df.index.name = 'ind'\n",
    "    return df"
   ]
  },
  {
   "cell_type": "code",
   "execution_count": 12,
   "metadata": {},
   "outputs": [],
   "source": [
    "def extract_dependency_features(data):\n",
    "    df = pd.DataFrame(columns = ['Root features', 'Child features', 'Deprel'])\n",
    "    sent_begin = 0\n",
    "    with tqdm_notebook(total = len(data)) as bar:\n",
    "        for index, row in data.iterrows():\n",
    "            if row['Features'] == 'SENT':\n",
    "                #the sentence has ended\n",
    "                sent_begin = index\n",
    "                continue\n",
    "            head = data[(data['Id'] == row['Head']) & (data.index >= sent_begin)]['Features']\n",
    "            if head.size > 0:\n",
    "                df.loc[len(df)] = [head.iloc[0], row['Features'], row['Deprel']]\n",
    "            bar.update(1)\n",
    "    return df.drop_duplicates()"
   ]
  },
  {
   "cell_type": "code",
   "execution_count": 13,
   "metadata": {},
   "outputs": [],
   "source": [
    "maltparser_endpoint = 'http://192.168.99.100:2000'"
   ]
  },
  {
   "cell_type": "code",
   "execution_count": 14,
   "metadata": {},
   "outputs": [],
   "source": [
    "mparse = functools.partial(malt_parse, url=maltparser_endpoint)"
   ]
  },
  {
   "cell_type": "code",
   "execution_count": 15,
   "metadata": {},
   "outputs": [],
   "source": [
    "def process(fname):\n",
    "    # грузим все предложения\n",
    "    with open(fname, encoding='utf-8') as f:\n",
    "        sents = f.readlines()\n",
    "    # удаляем \\n\n",
    "    sents = [s.replace('\\n','')for s in sents]\n",
    "    parsed = mparse(sents[0])\n",
    "    print('Parsing sentences')\n",
    "    with tqdm_notebook(total = len(sents)) as prog:\n",
    "        for i in range(0, len(sents), 1):\n",
    "            parsed = parsed.append(mparse(' '.join(sents[i:i+1])))\n",
    "            prog.update(1)\n",
    "    print('Extracting deprels')\n",
    "    return extract_dependency_features(parsed)"
   ]
  },
  {
   "cell_type": "code",
   "execution_count": 13,
   "metadata": {},
   "outputs": [
    {
     "name": "stdout",
     "output_type": "stream",
     "text": [
      "Parsing sentences\n"
     ]
    },
    {
     "data": {
      "application/vnd.jupyter.widget-view+json": {
       "model_id": "e40361687b6041d481b4155cc8e09c5e",
       "version_major": 2,
       "version_minor": 0
      },
      "text/plain": [
       "HBox(children=(IntProgress(value=0, max=19353), HTML(value='')))"
      ]
     },
     "metadata": {},
     "output_type": "display_data"
    },
    {
     "name": "stdout",
     "output_type": "stream",
     "text": [
      "\n",
      "Extracting deprels\n"
     ]
    },
    {
     "data": {
      "application/vnd.jupyter.widget-view+json": {
       "model_id": "203054504147420fbe1e55fcbed723d8",
       "version_major": 2,
       "version_minor": 0
      },
      "text/plain": [
       "HBox(children=(IntProgress(value=0, max=194516), HTML(value='')))"
      ]
     },
     "metadata": {},
     "output_type": "display_data"
    },
    {
     "name": "stdout",
     "output_type": "stream",
     "text": [
      "\n"
     ]
    }
   ],
   "source": [
    "deps = process('sents_don.txt')"
   ]
  },
  {
   "cell_type": "code",
   "execution_count": 112,
   "metadata": {},
   "outputs": [],
   "source": [
    "from random import random, randint, sample"
   ]
  },
  {
   "cell_type": "code",
   "execution_count": 118,
   "metadata": {},
   "outputs": [],
   "source": [
    "cyrillic_letters = \"АаБбВвГгДдЕеЁёЖжЗзИиЙйКкЛлМмНнОоПпРрСсТтУуФфХхЦцЧчШшЩщЪъЫыЬьЭэЮюЯя\""
   ]
  },
  {
   "cell_type": "code",
   "execution_count": 137,
   "metadata": {},
   "outputs": [],
   "source": [
    "def make_errors(text, word_prob=0.1):\n",
    "    \"\"\"\n",
    "    Args:\n",
    "        text (str): The target text\n",
    "        word_prob (float): probability of making a mistake in a single word\n",
    "    \"\"\"\n",
    "    res = text.split()\n",
    "    for i in range(len(res)):\n",
    "        if(random() <= word_prob):\n",
    "            word = res[i]\n",
    "            word_len = len(word)\n",
    "            if not word[-1].isalpha():\n",
    "                word_len -= 1\n",
    "            ind_error = randint(0, word_len - 1)\n",
    "            word = word[:ind_error] + sample(cyrillic_letters, 1)[0] + word[ind_error+1:]\n",
    "            res[i] = word\n",
    "    return ' '.join(res)"
   ]
  },
  {
   "cell_type": "code",
   "execution_count": 140,
   "metadata": {},
   "outputs": [],
   "source": [
    "test = \"Предложение для? проверки, функции создания ошибок.\""
   ]
  },
  {
   "cell_type": "code",
   "execution_count": 157,
   "metadata": {},
   "outputs": [
    {
     "data": {
      "text/plain": [
       "'Предложение для? эроверки, функциЫ соПдания ошибВк.'"
      ]
     },
     "execution_count": 157,
     "metadata": {},
     "output_type": "execute_result"
    }
   ],
   "source": [
    "make_errors(test, 0.2)"
   ]
  },
  {
   "cell_type": "markdown",
   "metadata": {},
   "source": [
    "## Читаем зависимости из файлов в ./deps/ и составляем множество троек (head_features, tail_features, dep_rel)"
   ]
  },
  {
   "cell_type": "code",
   "execution_count": 21,
   "metadata": {},
   "outputs": [],
   "source": [
    "def get_deps(df):\n",
    "    for i, row in df.iterrows():\n",
    "        yield(row['Root features'],row['Child features'],row['Deprel'])"
   ]
  },
  {
   "cell_type": "code",
   "execution_count": 17,
   "metadata": {},
   "outputs": [],
   "source": [
    "# читаем deps\n",
    "with open('deps/deps_war_and_peace', 'rb') as f:\n",
    "    deps = pickle.load(f)"
   ]
  },
  {
   "cell_type": "code",
   "execution_count": 18,
   "metadata": {},
   "outputs": [],
   "source": [
    "# читаем deps\n",
    "with open('deps/deps_don', 'rb') as f:\n",
    "    deps_don = pickle.load(f)"
   ]
  },
  {
   "cell_type": "code",
   "execution_count": 20,
   "metadata": {},
   "outputs": [],
   "source": [
    "possible_deps = set()"
   ]
  },
  {
   "cell_type": "code",
   "execution_count": 22,
   "metadata": {},
   "outputs": [],
   "source": [
    "for i, row in deps_don.iterrows():\n",
    "    possible_deps.add((row['Root features'],row['Child features'],row['Deprel']))"
   ]
  },
  {
   "cell_type": "code",
   "execution_count": 24,
   "metadata": {},
   "outputs": [],
   "source": [
    "for i, row in deps.iterrows():\n",
    "    possible_deps.add((row['Root features'],row['Child features'],row['Deprel']))"
   ]
  },
  {
   "cell_type": "code",
   "execution_count": 25,
   "metadata": {
    "scrolled": true
   },
   "outputs": [
    {
     "data": {
      "text/plain": [
       "47283"
      ]
     },
     "execution_count": 25,
     "metadata": {},
     "output_type": "execute_result"
    }
   ],
   "source": [
    "len(possible_deps)"
   ]
  },
  {
   "cell_type": "code",
   "execution_count": 27,
   "metadata": {},
   "outputs": [
    {
     "data": {
      "application/vnd.jupyter.widget-view+json": {
       "model_id": "d9f2bd71d5e6443bbcfbf7c15d50fb49",
       "version_major": 2,
       "version_minor": 0
      },
      "text/plain": [
       "HBox(children=(IntProgress(value=0, max=3), HTML(value='')))"
      ]
     },
     "metadata": {},
     "output_type": "display_data"
    },
    {
     "name": "stdout",
     "output_type": "stream",
     "text": [
      "\n"
     ]
    }
   ],
   "source": [
    "test_parsed = mparse(\"Будет дождь.\")\n",
    "test_deps = extract_dependency_features(test_parsed)"
   ]
  },
  {
   "cell_type": "code",
   "execution_count": 28,
   "metadata": {},
   "outputs": [],
   "source": [
    "def check_sent(sent, possible_deps):\n",
    "    \"\"\"\n",
    "    Args:\n",
    "        sent (str): Sentence to check\n",
    "        possible_deps (set): The set of all possible dependency relations\n",
    "    \"\"\"\n",
    "    test_parsed = mparse(sent)\n",
    "    test_deps = extract_dependency_features(test_parsed)\n",
    "    res = \"\"\n",
    "    for ind, row in test_deps.iterrows():\n",
    "        print((row['Root features'],row['Child features'],row['Deprel']))\n",
    "        print((row['Root features'],row['Child features'],row['Deprel']) in possible_deps)\n",
    "        print()\n",
    "        res = res + str((row['Root features'],row['Child features'],row['Deprel'])) + \"&&\" + str((row['Root features'],row['Child features'],row['Deprel']) in possible_deps) + \"\\\\\"\n",
    "    return res, test_parsed, test_deps"
   ]
  },
  {
   "cell_type": "code",
   "execution_count": 30,
   "metadata": {},
   "outputs": [
    {
     "data": {
      "application/vnd.jupyter.widget-view+json": {
       "model_id": "e7b586d3571040c9806c84058777eb56",
       "version_major": 2,
       "version_minor": 0
      },
      "text/plain": [
       "HBox(children=(IntProgress(value=0, max=3), HTML(value='')))"
      ]
     },
     "metadata": {},
     "output_type": "display_data"
    },
    {
     "name": "stdout",
     "output_type": "stream",
     "text": [
      "\n",
      "('Vmip1s-a-e', 'P-1-snn', 'предик')\n",
      "True\n",
      "\n",
      "('Vmip1s-a-e', 'Ncmsan', '1-компл')\n",
      "True\n",
      "\n"
     ]
    }
   ],
   "source": [
    "a = check_sent(\"Я иду дом\", possible_deps)"
   ]
  },
  {
   "cell_type": "code",
   "execution_count": 118,
   "metadata": {},
   "outputs": [
    {
     "data": {
      "application/vnd.jupyter.widget-view+json": {
       "model_id": "13e88e93f9a84af89b386278932bcc4e",
       "version_major": 2,
       "version_minor": 0
      },
      "text/plain": [
       "HBox(children=(IntProgress(value=0, max=3), HTML(value='')))"
      ]
     },
     "metadata": {},
     "output_type": "display_data"
    },
    {
     "name": "stdout",
     "output_type": "stream",
     "text": [
      "\n",
      "('Vmip1s-a-e', 'P-1-snn', 'предик')\n",
      "True\n",
      "\n",
      "('Vmip1s-a-e', 'Ncmsan', '1-компл')\n",
      "True\n",
      "\n"
     ]
    }
   ],
   "source": [
    "b = check_sent(\"Я иду дом\", possible_deps)"
   ]
  },
  {
   "cell_type": "code",
   "execution_count": 96,
   "metadata": {},
   "outputs": [
    {
     "data": {
      "application/vnd.jupyter.widget-view+json": {
       "model_id": "2afe5d62c62a4b9db49310a264350f18",
       "version_major": 2,
       "version_minor": 0
      },
      "text/plain": [
       "HBox(children=(IntProgress(value=0, max=3), HTML(value='')))"
      ]
     },
     "metadata": {},
     "output_type": "display_data"
    },
    {
     "name": "stdout",
     "output_type": "stream",
     "text": [
      "\n",
      "('Vmip3p-a-e', 'Ncmpny', 'предик')\n",
      "False\n",
      "\n"
     ]
    },
    {
     "data": {
      "text/plain": [
       "(\"('Vmip3p-a-e', 'Ncmpny', 'предик')&&False\\\\\",\n",
       "      Id   Form    Lemma CPOSTAG Postag    Features  Head  Deprel Phead Pdeprel\n",
       " ind                                                                           \n",
       " 0     1   Люди  человек       N      N      Ncmpny     2  предик     _       _\n",
       " 1     2  ходят   ходить       V      V  Vmip3p-a-e     0    ROOT     _       _\n",
       " 2     3      .        .       S      S        SENT     2    PUNC     _       _,\n",
       "   Root features Child features  Deprel\n",
       " 0    Vmip3p-a-e         Ncmpny  предик)"
      ]
     },
     "execution_count": 96,
     "metadata": {},
     "output_type": "execute_result"
    }
   ],
   "source": [
    "check_sent(\"Люди ходят.\", possible_deps)"
   ]
  },
  {
   "cell_type": "code",
   "execution_count": 64,
   "metadata": {},
   "outputs": [
    {
     "data": {
      "application/vnd.jupyter.widget-view+json": {
       "model_id": "b5f9a2c435e84296afea7cddc275a764",
       "version_major": 2,
       "version_minor": 0
      },
      "text/plain": [
       "HBox(children=(IntProgress(value=0, max=10), HTML(value='')))"
      ]
     },
     "metadata": {},
     "output_type": "display_data"
    },
    {
     "name": "stdout",
     "output_type": "stream",
     "text": [
      "\n",
      "('Vmip2s-a-e', 'P-2-snn', 'предик')\n",
      "False\n",
      "\n",
      "('Vmip2s-a-e', 'Vmn----a-e', '1-компл')\n",
      "False\n",
      "\n",
      "('Vmn----a-e', 'P---pga', '1-компл')\n",
      "False\n",
      "\n",
      "('P---pga', 'P--msdn', 'опред')\n",
      "False\n",
      "\n",
      "('Ncfpgn', 'R', 'огранич')\n",
      "True\n",
      "\n",
      "('Ncfpgn', 'Mc--n', 'количест')\n",
      "True\n",
      "\n",
      "('Vmip2s-a-e', 'Ncfpgn', 'длительн')\n",
      "False\n",
      "\n",
      "('Ncfpgn', 'Ncmpgn', 'квазиагент')\n",
      "True\n",
      "\n"
     ]
    }
   ],
   "source": [
    "r,t,d = check_sent(\"Ты выходишь учить тех, кому уже шесть тысяч лет.\", possible_deps)"
   ]
  },
  {
   "cell_type": "code",
   "execution_count": 66,
   "metadata": {},
   "outputs": [
    {
     "data": {
      "text/plain": [
       "\"('Vmip2s-a-e', 'P-2-snn', 'предик')&&False\\\\('Vmip2s-a-e', 'Vmn----a-e', '1-компл')&&False\\\\('Vmn----a-e', 'P---pga', '1-компл')&&False\\\\('P---pga', 'P--msdn', 'опред')&&False\\\\('Ncfpgn', 'R', 'огранич')&&True\\\\('Ncfpgn', 'Mc--n', 'количест')&&True\\\\('Vmip2s-a-e', 'Ncfpgn', 'длительн')&&False\\\\('Ncfpgn', 'Ncmpgn', 'квазиагент')&&True\\\\\""
      ]
     },
     "execution_count": 66,
     "metadata": {},
     "output_type": "execute_result"
    }
   ],
   "source": [
    "r"
   ]
  }
 ],
 "metadata": {
  "kernelspec": {
   "display_name": "Python 3",
   "language": "python",
   "name": "python3"
  },
  "language_info": {
   "codemirror_mode": {
    "name": "ipython",
    "version": 3
   },
   "file_extension": ".py",
   "mimetype": "text/x-python",
   "name": "python",
   "nbconvert_exporter": "python",
   "pygments_lexer": "ipython3",
   "version": "3.7.0"
  }
 },
 "nbformat": 4,
 "nbformat_minor": 2
}
