{
 "cells": [
  {
   "cell_type": "code",
   "execution_count": 1,
   "metadata": {},
   "outputs": [],
   "source": [
    "import bz2\n",
    "import itertools\n",
    "import codecs"
   ]
  },
  {
   "cell_type": "code",
   "execution_count": 2,
   "metadata": {},
   "outputs": [],
   "source": [
    "import nltk\n",
    "import re\n",
    "import unicodedata"
   ]
  },
  {
   "cell_type": "code",
   "execution_count": 20,
   "metadata": {},
   "outputs": [],
   "source": [
    "# open corpora\n",
    "f = open('don.txt')"
   ]
  },
  {
   "cell_type": "code",
   "execution_count": 21,
   "metadata": {},
   "outputs": [],
   "source": [
    "# get full text as a single string\n",
    "lines = f.readlines()\n",
    "text = \"\".join(lines)"
   ]
  },
  {
   "cell_type": "code",
   "execution_count": 23,
   "metadata": {},
   "outputs": [],
   "source": [
    "# split the full text into sentences\n",
    "sents = nltk.sent_tokenize(text)\n",
    "\n",
    "lathin = set(list(\"ABCDEFGHIJKLMNOPQRSTWXZ\") + list(\"ABCDEFGHIJKLMNOPQRSTWXZ\".lower()))\n",
    "# remove all sentencec with latin letters\n",
    "sents = [s for s in sents if set.isdisjoint(set(s), lathin)]\n",
    "# normalize unicode\n",
    "sents = [unicodedata.normalize(\"NFKD\", s) for s in sents]\n",
    "# remove \\n and [, ]\n",
    "sents = [re.sub(r'[\\[,\\],\\n]', '', s) for s in sents]\n",
    "# save each sentence on separate line\n",
    "with open('sents_don.txt', 'w', encoding='utf-8') as f:\n",
    "    for s in sents:\n",
    "        f.write(f'{s}\\n')"
   ]
  },
  {
   "cell_type": "code",
   "execution_count": null,
   "metadata": {},
   "outputs": [],
   "source": []
  }
 ],
 "metadata": {
  "kernelspec": {
   "display_name": "Python 3",
   "language": "python",
   "name": "python3"
  },
  "language_info": {
   "codemirror_mode": {
    "name": "ipython",
    "version": 3
   },
   "file_extension": ".py",
   "mimetype": "text/x-python",
   "name": "python",
   "nbconvert_exporter": "python",
   "pygments_lexer": "ipython3",
   "version": "3.7.0"
  }
 },
 "nbformat": 4,
 "nbformat_minor": 2
}
